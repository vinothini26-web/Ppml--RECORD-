{
 "cells": [
  {
   "cell_type": "code",
   "execution_count": 2,
   "id": "e69d10d2-c244-40a6-a9d4-36ff8440675a",
   "metadata": {},
   "outputs": [
    {
     "name": "stdout",
     "output_type": "stream",
     "text": [
      "Generated Data (first 10 points): [ 0.43853616  0.0548549   1.00897571  0.85655712 -0.28079845  1.34995659\n",
      "  0.85993864 -0.14933425 -0.17904601  0.03434921]\n",
      "Mean: 0.01436432019097668\n",
      "Median: -0.013647490396327382\n",
      "Standard Deviation: 1.0271842438783363\n",
      "Variance: 1.0551074708719095\n",
      "Max Value: 3.5771462750692216\n",
      "Min Value: -3.2515792619424806\n",
      "Sum of Squares: 1055.3138045664582\n",
      "Square Roots of Absolute Values (first 10 points): [0.66222063 0.23421123 1.00447783 0.92550371 0.52990419 1.16187632\n",
      " 0.92732877 0.3864379  0.42313829 0.1853354 ]\n"
     ]
    }
   ],
   "source": [
    "import numpy as np\n",
    "\n",
    "# Generate random data\n",
    "data = np.random.randn(1000)  # 1000 random data points from a standard normal distribution\n",
    "\n",
    "# Calculate basic statistics\n",
    "mean = np.mean(data)\n",
    "median = np.median(data)\n",
    "std_dev = np.std(data)\n",
    "variance = np.var(data)\n",
    "max_value = np.max(data)\n",
    "min_value = np.min(data)\n",
    "\n",
    "# Apply mathematical formulas\n",
    "sum_of_squares = np.sum(data**2)\n",
    "sqrt_data = np.sqrt(np.abs(data))  # Take square root of absolute values to avoid complex numbers\n",
    "\n",
    "# Output the results\n",
    "print(\"Generated Data (first 10 points):\", data[:10])\n",
    "print(\"Mean:\", mean)\n",
    "print(\"Median:\", median)\n",
    "print(\"Standard Deviation:\", std_dev)\n",
    "print(\"Variance:\", variance)\n",
    "print(\"Max Value:\", max_value)\n",
    "print(\"Min Value:\", min_value)\n",
    "print(\"Sum of Squares:\", sum_of_squares)\n",
    "print(\"Square Roots of Absolute Values (first 10 points):\", sqrt_data[:10])\n"
   ]
  },
  {
   "cell_type": "code",
   "execution_count": null,
   "id": "5863a5b0-dc56-4185-a06e-8800e38d0607",
   "metadata": {},
   "outputs": [],
   "source": []
  }
 ],
 "metadata": {
  "kernelspec": {
   "display_name": "Python 3 (ipykernel)",
   "language": "python",
   "name": "python3"
  },
  "language_info": {
   "codemirror_mode": {
    "name": "ipython",
    "version": 3
   },
   "file_extension": ".py",
   "mimetype": "text/x-python",
   "name": "python",
   "nbconvert_exporter": "python",
   "pygments_lexer": "ipython3",
   "version": "3.11.7"
  }
 },
 "nbformat": 4,
 "nbformat_minor": 5
}
